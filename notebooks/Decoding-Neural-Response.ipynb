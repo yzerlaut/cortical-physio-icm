{
 "cells": [
  {
   "cell_type": "markdown",
   "id": "experienced-reviewer",
   "metadata": {},
   "source": [
    "# Decoding stimulus identity from neural responses\n",
    "\n",
    "We implement here a nearest-neighbor decoder of neural activity."
   ]
  },
  {
   "cell_type": "code",
   "execution_count": null,
   "id": "weighted-cameroon",
   "metadata": {},
   "outputs": [],
   "source": [
    "# general modules\n",
    "import pynwb, os, sys\n",
    "import numpy as np\n",
    "import matplotlib.pylab as plt\n",
    "\n",
    "# custom modules\n",
    "sys.path.append('..')\n",
    "from physion.dataviz import plots\n",
    "from physion.analysis.read_NWB import read as read_NWB\n",
    "from physion.dataviz.tools import *\n",
    "\n",
    "from physion.visual_stim.psychopy_code.stimuli import build_stim\n",
    "\n",
    "# we define a data object fitting this analysis purpose\n",
    "class Data:\n",
    "    \n",
    "    def __init__(self, filename, verbose=False):\n",
    "        \"\"\" opens data file \"\"\"\n",
    "        read_NWB(self, filename, verbose=verbose)\n",
    "        self.metadata['load_from_protocol_data'], self.metadata['no-window'] = True, True\n",
    "        self.visual_stim = build_stim(self.metadata, no_psychopy=True)\n",
    " "
   ]
  }
 ],
 "metadata": {
  "kernelspec": {
   "display_name": "Python 3",
   "language": "python",
   "name": "python3"
  },
  "language_info": {
   "codemirror_mode": {
    "name": "ipython",
    "version": 3
   },
   "file_extension": ".py",
   "mimetype": "text/x-python",
   "name": "python",
   "nbconvert_exporter": "python",
   "pygments_lexer": "ipython3",
   "version": "3.8.5"
  }
 },
 "nbformat": 4,
 "nbformat_minor": 5
}
