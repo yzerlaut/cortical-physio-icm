{
 "cells": [
  {
   "cell_type": "markdown",
   "metadata": {},
   "source": [
    "# Direction selectivity analysis"
   ]
  },
  {
   "cell_type": "code",
   "execution_count": 24,
   "metadata": {},
   "outputs": [
    {
     "name": "stdout",
     "output_type": "stream",
     "text": [
      "Number of episodse over the whole recording: 80/120 (with protocol condition)\n",
      "[ok] episodes ready !\n",
      "{'angle': array([  0.,  45.,  90., 135., 180., 225., 270., 315.])}\n"
     ]
    }
   ],
   "source": [
    "import pynwb, os\n",
    "import numpy as np\n",
    "from datavyz import graph_env_manuscript as ge\n",
    "import matplotlib.pylab as plt\n",
    "import matplotlib as mpl\n",
    "mpl.rcParams['figure.max_open_warning'] = 1000\n",
    "\n",
    "import sys\n",
    "# sys.path.append('C:\\\\Users\\\\yann.zerlaut\\\\work\\\\physion')\n",
    "sys.path.append('/home/yann/work/physion')\n",
    "from physion.dataviz import plots\n",
    "from physion.analysis.read_NWB import read as read_NWB\n",
    "from physion.analysis.trial_averaging import build_episodes\n",
    "\n",
    "class Data:\n",
    "    \n",
    "    def __init__(self, filename, \n",
    "                 protocol_id=0,\n",
    "                 quantity='CaImaging', \n",
    "                 subquantity='Fluorescence', \n",
    "                 roiIndex = 0,\n",
    "                 verbose=False):\n",
    "        \"\"\" opens data file and build the episodes corresponding to a specific protocol \"\"\"\n",
    "        read_NWB(self, filename, verbose=False)\n",
    "        if verbose:\n",
    "            print('Building episodes for \"%s\"' % self.protocols[protocol_id])\n",
    "        self.EPISODES = build_episodes(self, protocol_id=protocol_id)\n",
    "        \n",
    "        self.find_varied_parameters()\n",
    "        if verbose:\n",
    "            print('parameters varied:', self.varied_parameters)\n",
    "        \n",
    "    def find_varied_parameters(self):\n",
    "        \"\"\" find the parameter(s) varied within a specific protocol \"\"\"\n",
    "        self.varied_parameters =  {}\n",
    "        for key in self.nwbfile.stimulus.keys():\n",
    "            if key not in ['frame_run_type', 'index', 'protocol_id', 'repeat', 'time_duration', 'time_start',\n",
    "                           'time_start_realigned', 'time_stop', 'time_stop_realigned']:\n",
    "                unique = np.unique(self.EPISODES[key])\n",
    "                if len(unique)>1:\n",
    "                    self.varied_parameters[key] = unique\n",
    "\n",
    "    def compute_repeated_trials(self, key, index):\n",
    "        cond = (self.EPISODES[key]==self.varied_parameters[key][index])\n",
    "        return np.array([])\n",
    "    \n",
    "    \n",
    "filename = os.path.join(os.path.expanduser('~'), 'DATA', 'data.nwb')\n",
    "\n",
    "data = Data(filename, 1)\n",
    "print(data.varied_parameters)\n"
   ]
  },
  {
   "cell_type": "code",
   "execution_count": 25,
   "metadata": {},
   "outputs": [
    {
     "data": {
      "text/plain": [
       "[<matplotlib.lines.Line2D at 0x7f9e1a6ebdf0>]"
      ]
     },
     "execution_count": 25,
     "metadata": {},
     "output_type": "execute_result"
    },
    {
     "data": {
      "image/png": "[encoded data removed]",
      "text/plain": [
       "<Figure size 432x288 with 1 Axes>"
      ]
     },
     "metadata": {
      "needs_background": "light"
     },
     "output_type": "display_data"
    }
   ],
   "source": [
    "plt.plot(data.EPISODES['t'], np.mean(data.EPISODES['Photodiode-Signal'], axis=0))"
   ]
  },
  {
   "cell_type": "code",
   "execution_count": 26,
   "metadata": {},
   "outputs": [
    {
     "data": {
      "text/plain": [
       "array([ True, False, False,  True,  True, False, False,  True,  True,\n",
       "        True,  True,  True,  True, False, False, False,  True,  True,\n",
       "       False, False, False, False, False, False,  True, False,  True,\n",
       "       False, False, False, False, False, False, False,  True, False,\n",
       "       False, False, False,  True, False,  True, False, False, False,\n",
       "        True, False,  True, False, False, False,  True, False,  True,\n",
       "       False, False, False, False, False, False, False, False,  True,\n",
       "       False,  True,  True,  True,  True, False, False, False, False,\n",
       "       False,  True, False, False, False, False,  True, False, False,\n",
       "        True, False, False, False,  True,  True,  True, False, False,\n",
       "       False, False, False, False,  True, False,  True, False, False,\n",
       "        True, False, False, False,  True, False, False, False, False,\n",
       "        True,  True, False, False,  True, False,  True, False, False,\n",
       "       False, False,  True])"
      ]
     },
     "execution_count": 26,
     "metadata": {},
     "output_type": "execute_result"
    }
   ],
   "source": [
    "data.nwbfile.stimulus['protocol_id'].data[:]==0"
   ]
  },
  {
   "cell_type": "code",
   "execution_count": 27,
   "metadata": {},
   "outputs": [],
   "source": [
    "\n",
    "def selectivity_index(angles, resp):\n",
    "    imax = np.argmax(resp)\n",
    "    iop = np.argmin(((angles[imax]+np.pi/2.)%(2*np.pi)-angles)**2)\n",
    "    return min([1,max([0,(resp[imax]-resp[iop])/(resp[imax]+resp[iop])])])\n",
    "\n",
    "def make_selectivity_plots(data, roi=0,\n",
    "                           dt_sampling=0.1,\n",
    "                           noise_threshold=2.,\n",
    "                           with_fig=True):\n",
    "    data.roiIndices = [roi]\n",
    "    EPISODES = build_episodes(data, quantity='CaImaging', dt_sampling=1e3*dt_sampling, verbose=False)\n",
    "\n",
    "    angles = np.unique(data.nwbfile.stimulus['angle'].data[:])\n",
    "    updated_angles = np.linspace(0, 180, len(angles)+1)[:-1] # TEMPORARY\n",
    "    integral, max_resp = np.zeros(len(angles)), np.zeros(len(angles))\n",
    "    noise_estimate = np.zeros(len(angles))\n",
    "    tresp_cond = (EPISODES['t']>0) & (EPISODES['t']<=data.metadata['presentation-duration'])\n",
    "    SET_OF_ANGLE_COND = build_conditions(data, [angles], ['angle'])\n",
    "    \n",
    "    if with_fig:\n",
    "        fig, ax = ge.figure(figsize=(2.7,1.3), left=0, bottom=0)\n",
    "    for i, cond in enumerate(SET_OF_ANGLE_COND):\n",
    "        new_cond = cond[:len(EPISODES['CaImaging'])] # to deal with stoped protocols\n",
    "        F0 = np.array(EPISODES['CaImaging'])[new_cond,:][:,EPISODES['t']<=0].mean(axis=1)\n",
    "        dF = np.array((np.array(EPISODES['CaImaging'])[new_cond,:].T-F0)/F0).T\n",
    "        if with_fig:\n",
    "            tplot = i*(1+EPISODES['t'][-1]-EPISODES['t'][0])\n",
    "            ge.plot(EPISODES['t']+tplot, dF.mean(axis=0), sy=dF.std(axis=0), ax=ax, no_set=True)\n",
    "        integral[i] = np.trapz(dF.mean(axis=0)[tresp_cond], np.arange(len(dF.mean(axis=0)[tresp_cond]))*dt_sampling)\n",
    "        max_resp[i] = dF.mean(axis=0)[tresp_cond].max()\n",
    "        noise_estimate[i] = dF.std(axis=0)[EPISODES['t']<=0].mean()\n",
    "    if with_fig:\n",
    "        ylim=ax.get_ylim()\n",
    "        for i, cond in enumerate(SET_OF_ANGLE_COND):\n",
    "            tplot = i*(1+EPISODES['t'][-1]-EPISODES['t'][0])\n",
    "            ge.annotate(ax, '%.0f$^o$' % updated_angles[i], (tplot, 1.2), xycoords='data')\n",
    "            ax.fill_between([tplot+0, tplot+data.metadata['presentation-duration']],\n",
    "                            ylim[0]*np.ones(2), ylim[1]*np.ones(2), alpha=.1, color=ge.blue, lw=0)\n",
    "        ge.set_plot(ax, [], ylim=[-.3,1.2])\n",
    "        ge.draw_bar_scales(ax, Xbar=3, Xbar_label='3s', Ybar=0.5, Ybar_label='50%$\\Delta$F/F', loc='top-left')\n",
    "\n",
    "    if np.sum((max_resp>noise_threshold*noise_estimate)):\n",
    "        responsive=True\n",
    "        if with_fig:\n",
    "            ge.annotate(fig, 'responsive  ', (1.,0.05), ha='right', color='darkgreen', bold=True)\n",
    "    else:\n",
    "        responsive=False\n",
    "        if with_fig:\n",
    "            ge.annotate(fig, 'non-responsive  ', (1., 0.05), ha='right', color=ge.red)\n",
    "    angles = np.concatenate([updated_angles/180*np.pi, np.pi+updated_angles/180*np.pi, [2*np.pi]])\n",
    "    resp = np.concatenate([integral, integral, [integral[0]]])\n",
    "    if with_fig:\n",
    "        ax = plt.axes([.94,.1,.1,.6], projection='polar')\n",
    "        ax.plot(angles, resp, color='k', lw=2)\n",
    "        ax.set_rticks([])\n",
    "        ax.set_xticklabels([])\n",
    "        si = selectivity_index(angles, resp)\n",
    "        ge.annotate(fig, 'ROI:%i' % (roi+1), (0,.5), va='center')\n",
    "        ge.annotate(fig, 'SI=%.2f ' % si, (1,.9), va='top', ha='right')\n",
    "        return fig, si, responsive\n",
    "    else:\n",
    "        return None, selectivity_index(angles, resp), responsive\n",
    "    \n",
    "def show_response(filename):\n",
    "    data = Data(filename)\n",
    "    SI = []\n",
    "    for i in range(np.sum(data.iscell)):\n",
    "        fig, si, responsive = make_selectivity_plots(data, roi=i, noise_threshold=2.5, with_fig=True)\n",
    "        if responsive:\n",
    "            SI.append(si)\n",
    "    x = [len(SI), np.sum(data.iscell)-len(SI)]\n",
    "    fig, ax = ge.pie(x,\n",
    "                     ext_labels = ['responsive\\n %.1f%%, n=%i' % (100*x[0]/np.sum(x), x[0]),\n",
    "                                   'non-reponsive\\n %.1f%%, n=%i' % (100*x[1]/np.sum(x), x[1])],\n",
    "                     ext_labels_distance=1.2,\n",
    "                     explodes=0.05*np.ones(len(x)), center_circle=0.2,\n",
    "                     COLORS = ['darkgreen', ge.red],\n",
    "                     legend=None)\n",
    "    if len(SI)>0:\n",
    "        hist, be = np.histogram(SI, bins=np.linspace(0, max(SI)), density=False)\n",
    "        fig, ax = ge.plot(be[1:], 100*np.cumsum(hist)/len(SI))\n",
    "        ge.set_plot(ax, yticks=[0,50,100], ylabel='fraction (%)\\n of resp. neurons', xlabel='OSI')\n",
    "    "
   ]
  },
  {
   "cell_type": "code",
   "execution_count": null,
   "metadata": {},
   "outputs": [],
   "source": [
    "filename = os.path.join('D:\\\\', 'Fani', '2020_11_19', '11-40-32', '2020_11_19-11-40-32.LIGHTWEIGHT.nwb')\n",
    "show_response(filename)"
   ]
  },
  {
   "cell_type": "code",
   "execution_count": null,
   "metadata": {},
   "outputs": [],
   "source": [
    "FULL_SI, Ntot, = [], 0\n",
    "LIST = [\\\n",
    "        os.path.join('2021_01_15', \"2021_01_15-11-12-50.['processed_CaImaging', 'VisualStim', 'Locomotion', 'Pupil', 'Whisking', 'Electrophy'].nwb\"),\\\n",
    "        os.path.join('2021_01_15', \"2021_01_15-12-13-54.['processed_CaImaging', 'VisualStim', 'Locomotion', 'Pupil', 'Whisking', 'Electrophy'].nwb\"),\\\n",
    "        os.path.join('2021_01_15', \"2021_01_15-15-44-52.['processed_CaImaging', 'VisualStim', 'Locomotion', 'Pupil', 'Whisking', 'Electrophy'].nwb\"),\\\n",
    "        os.path.join('2021_01_15', \"2021_01_15-16-09-19.['processed_CaImaging', 'VisualStim', 'Locomotion', 'Pupil', 'Whisking', 'Electrophy'].nwb\"),\\\n",
    "        os.path.join('2020_11_12', \"2020_11_12-17-54-24.FULL.nwb\"),\\\n",
    "        ]\n",
    "\n",
    "for l, fn in enumerate(LIST):\n",
    "    filename = os.path.join(os.path.expanduser('~'), 'DATA', fn)\n",
    "    data = Data(filename)\n",
    "    Ntot += np.sum(data.iscell)\n",
    "    SI = []\n",
    "    for i in range(np.sum(data.iscell)):\n",
    "        fig, si, responsive = make_selectivity_plots(data, roi=i, noise_threshold=2.5, with_fig=True)\n",
    "        if responsive:\n",
    "            SI.append(si)\n",
    "    x = [len(SI), np.sum(data.iscell)-len(SI)]\n",
    "    fig, ax = ge.pie(x,\n",
    "                     ext_labels = ['responsive\\n %.1f%%, n=%i' % (100*x[0]/np.sum(x), x[0]),\n",
    "                                   'non-reponsive\\n %.1f%%, n=%i' % (100*x[1]/np.sum(x), x[1])],\n",
    "                     ext_labels_distance=1.2,\n",
    "                     explodes=0.05*np.ones(len(x)), center_circle=0.2,\n",
    "                     COLORS = ['darkgreen', ge.red],\n",
    "                     legend=None)\n",
    "    FULL_SI = FULL_SI+SI\n",
    "    if len(SI)>0:\n",
    "        hist, be = np.histogram(SI, bins=np.linspace(0, max(SI)), density=False)\n",
    "        fig, ax = ge.plot(be[1:], 100*np.cumsum(hist)/len(SI))\n",
    "        ge.set_plot(ax, yticks=[0,50,100], ylabel='fraction (%)\\n of resp. neurons', xlabel='OSI')"
   ]
  },
  {
   "cell_type": "code",
   "execution_count": null,
   "metadata": {},
   "outputs": [],
   "source": []
  },
  {
   "cell_type": "code",
   "execution_count": null,
   "metadata": {},
   "outputs": [],
   "source": [
    "x = [len(FULL_SI), Ntot-len(FULL_SI)]\n",
    "fig, ax = ge.pie(x,\n",
    "                 ext_labels = ['responsive\\n %.1f%%, n=%i' % (100*x[0]/Ntot, x[0]),\n",
    "                               'non-reponsive\\n %.1f%%, n=%i' % (100*x[1]/Ntot, x[1])],\n",
    "                 ext_labels_distance=1.2,\n",
    "                 explodes=0.05*np.ones(len(x)), center_circle=0.2,\n",
    "                 COLORS = ['darkgreen', ge.red],\n",
    "                 legend=None)\n",
    "hist, be = np.histogram(FULL_SI, bins=np.linspace(0, max(FULL_SI)), density=False)\n",
    "fig, ax = ge.plot(be[1:], 100*np.cumsum(hist)/len(FULL_SI))\n",
    "ge.set_plot(ax, yticks=[0,50,100], ylabel='fraction (%)\\n of resp. neurons', xlabel='OSI')"
   ]
  },
  {
   "cell_type": "code",
   "execution_count": null,
   "metadata": {},
   "outputs": [],
   "source": [
    "import pynwb, os\n",
    "filename = os.path.join(os.path.expanduser('~'), 'DATA', '2021_01_15', \"2021_01_15-16-09-19.FULL.nwb\")\n",
    "io = pynwb.NWBHDF5IO(filename, 'r')\n",
    "nwbfile = io.read()"
   ]
  },
  {
   "cell_type": "code",
   "execution_count": null,
   "metadata": {},
   "outputs": [],
   "source": [
    "def scale_and_position(y, value=None, i=0, blank_space=0.1, increase_factor=2.):\n",
    "    if value is None:\n",
    "        value=y\n",
    "    ymin, ymax = y.min(), y.max()\n",
    "    if ymin<ymax:\n",
    "        return shift(i, increase_factor=increase_factor, blank_space=blank_space)+\\\n",
    "            increase_factor**i*\\\n",
    "            (value-ymin)/(ymax-ymin)\n",
    "    else:\n",
    "        return shift(i)+value\n",
    "\n",
    "def shift(i, blank_space=0.1, increase_factor=1):\n",
    "    return blank_space*i+\\\n",
    "        np.sum(np.power(increase_factor, np.arange(i)))\n",
    "\n",
    "def show_recording(nwbfile, pupil, tlim=[0, 60], Npoints=1e3):\n",
    "    fig, ax = ge.figure(figsize=(3,3))\n",
    "    iplot=0\n",
    "\n",
    "    # running speed\n",
    "    i1 = plots.convert_time_to_index(tlim[0], nwbfile.acquisition['Running-Speed'])\n",
    "    i2 = plots.convert_time_to_index(tlim[1], nwbfile.acquisition['Running-Speed'])\n",
    "    isampling = np.unique(np.linspace(i1, i2, int(Npoints), dtype=int))\n",
    "    y = scale_and_position(nwbfile.acquisition['Running-Speed'].data[isampling], i=iplot, increase_factor=2.3)\n",
    "    ax.plot(plots.convert_index_to_time(isampling, nwbfile.acquisition['Running-Speed']), y, color=ge.grey, lw=2)\n",
    "    ge.annotate(ax, 'Running speed', (tlim[0]+30, y[0]), xycoords='data', color=ge.grey, size='large', va='top')\n",
    "    iplot+=1\n",
    "    # pupil diameter\n",
    "    i1 = plots.convert_time_to_index(tlim[0], nwbfile.acquisition['FaceCamera'])\n",
    "    i2 = plots.convert_time_to_index(tlim[1], nwbfile.acquisition['FaceCamera'])\n",
    "    y = scale_and_position(pupil['diameter'][i1:i2], i=iplot, increase_factor=2.)-.5\n",
    "    ax.plot(nwbfile.acquisition['FaceCamera'].timestamps[i1:i2], y, color=ge.red, lw=2)\n",
    "    ge.annotate(ax, 'Pupil', (tlim[0], y[0]+.5), xycoords='data', color=ge.red, size='large')\n",
    "    iplot+=1\n",
    "    # fluorescence\n",
    "    Fluorescence = nwbfile.processing['ophys'].data_interfaces['Fluorescence'].roi_response_series['Fluorescence']\n",
    "    Neuropil = nwbfile.processing['ophys'].data_interfaces['Neuropil'].roi_response_series['Neuropil']\n",
    "    Segmentation = nwbfile.processing['ophys'].data_interfaces['ImageSegmentation'].plane_segmentations['PlaneSegmentation']\n",
    "    iscell = Segmentation.columns[2].data[:,0].astype(bool)\n",
    "    validROI_indices = np.arange(len(iscell))[iscell]\n",
    "    \n",
    "    i1 = plots.convert_time_to_index(tlim[0], Fluorescence, axis=1)\n",
    "    i2 = plots.convert_time_to_index(tlim[1], Fluorescence, axis=1)\n",
    "    for n, ir in enumerate([3, 7, 10, 8, 0, 1]):\n",
    "        y = scale_and_position(Fluorescence.data[validROI_indices[ir],i1:i2], i=iplot, increase_factor=1)+.9*n+1.\n",
    "        # nrnp = scale_and_position(Fluorescence.data[validROI_indices[ir],i1:i2],\n",
    "        #                           value=Neuropil.data[validROI_indices[ir],i1:i2], i=iplot)+n\n",
    "        tt = np.linspace(tlim[0], tlim[1], len(y)) # TEMPORARY\n",
    "        ax.plot(tt, y, color=ge.green)\n",
    "        ge.annotate(ax, str(n+1)+' ', (tlim[0], y[0]), xycoords='data', color=ge.green, ha='right', va='center')\n",
    "        # iplot += 1\n",
    "\n",
    "\n",
    "    duration, interstim = 4, 3\n",
    "    for istim in range(41):\n",
    "        tstart = (istim+2)*(duration+interstim)-2\n",
    "        ax.fill_between([tstart, tstart+duration], [-1, -1], [y.max(), y.max()], color=ge.blue, alpha=0.1, lw=0)\n",
    "        ax.fill_between([tstart, tstart+duration], [-1, -1], [-1.5, -1.5], color=ge.blue, alpha=0.4, lw=0)\n",
    "    ge.annotate(ax, 'Visual stim.', (tlim[0], -1), xycoords='data', color=ge.blue, size='large')#, va='top')\n",
    "        \n",
    "    ge.draw_bar_scales(ax, Xbar=5, Xbar_label='5s', Ybar=1e-12)\n",
    "    ge.set_plot(ax, [], xlim=tlim)\n",
    "    return fig, ax\n",
    "fig, ax = show_recording(nwbfile, pupil, tlim=[10,295])\n",
    "fig.savefig(os.path.join(os.path.expanduser('~'), 'Desktop', 'fig.svg'))"
   ]
  }
 ],
 "metadata": {
  "kernelspec": {
   "display_name": "Python 3",
   "language": "python",
   "name": "python3"
  },
  "language_info": {
   "codemirror_mode": {
    "name": "ipython",
    "version": 3
   },
   "file_extension": ".py",
   "mimetype": "text/x-python",
   "name": "python",
   "nbconvert_exporter": "python",
   "pygments_lexer": "ipython3",
   "version": "3.8.5"
  },
  "name": "Direction-Selectivity.ipynb"
 },
 "nbformat": 4,
 "nbformat_minor": 4
}
