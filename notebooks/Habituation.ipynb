{
 "cells": [
  {
   "cell_type": "code",
   "execution_count": null,
   "id": "427065ea",
   "metadata": {},
   "outputs": [],
   "source": [
    "# lading the python NWB API\n",
    "import pynwb, os, sys\n",
    "import numpy as np # numpy for numerical analysis\n",
    "import matplotlib.pylab as plt # + matplotlib for vizualization\n",
    "sys.path.append(os.path.join(os.path.expanduser('~'), 'work', 'physion', 'physion'))\n",
    "from dataviz.show_data import MultimodalData # custom\n",
    "from datavyz import graph_env_notebook as ge"
   ]
  }
 ],
 "metadata": {
  "kernelspec": {
   "display_name": "Python 3",
   "language": "python",
   "name": "python3"
  },
  "language_info": {
   "codemirror_mode": {
    "name": "ipython",
    "version": 3
   },
   "file_extension": ".py",
   "mimetype": "text/x-python",
   "name": "python",
   "nbconvert_exporter": "python",
   "pygments_lexer": "ipython3",
   "version": "3.8.5"
  }
 },
 "nbformat": 4,
 "nbformat_minor": 5
}
