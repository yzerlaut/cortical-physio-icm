{
 "cells": [
  {
   "cell_type": "markdown",
   "metadata": {},
   "source": [
    "# Datafiles in the NWB format\n",
    "\n",
    "We use the NWB data standard to store and share our multimodal neurophysiological recordings:\n",
    "\n",
    "From the NWB  webiste https://www.nwb.org/:\n",
    "\n",
    "> Neurodata Without Borders: Neurophysiology (NWB:N) is a data standard for neurophysiology, providing neuroscientists with a common standard to share, archive, use, and build analysis tools for neurophysiology data. NWB:N is designed to store a variety of neurophysiology data, including data from intracellular and extracellular electrophysiology experiments, data from optical physiology experiments, and tracking and stimulus data.\n",
    "\n",
    "We rely on the python API to create such files, see:\n",
    "\n",
    "https://pynwb.readthedocs.io/en/stable/\n",
    "\n",
    "The script to build such data files is [build_NWB.py](./build_NWB.py) and we update those files (e.g. to add processed data) the script [update_NWB.py](./update_NWB.py)\n",
    "\n"
   ]
  },
  {
   "cell_type": "code",
   "execution_count": 2,
   "metadata": {},
   "outputs": [],
   "source": [
    "# lading the python NWB API\n",
    "import pynwb\n",
    "import numpy as np # numpy for numerical analysis\n",
    "import matplotlib.pylab as plt # + matplotlib for vizualization"
   ]
  },
  {
   "cell_type": "code",
   "execution_count": 4,
   "metadata": {},
   "outputs": [],
   "source": [
    "# loading an example file\n",
    "filename = '/media/yann/Yann/2020_11_12/17-54-24/2020_11_12-17-54-24.FULL.nwb'\n",
    "io = pynwb.NWBHDF5IO(filename, 'r')\n",
    "nwbfile = io.read() # don't forget to close afterwards !! (io.close() )"
   ]
  },
  {
   "cell_type": "code",
   "execution_count": 6,
   "metadata": {},
   "outputs": [
    {
     "name": "stdout",
     "output_type": "stream",
     "text": [
      "root pynwb.file.NWBFile at 0x139903994860624\n",
      "Fields:\n",
      "  acquisition: {\n",
      "    FaceCamera-acquisition <class 'pynwb.image.ImageSeries'>,\n",
      "    Photodiode-Signal <class 'pynwb.base.TimeSeries'>,\n",
      "    Running-Speed <class 'pynwb.base.TimeSeries'>\n",
      "  }\n",
      "  experiment_description: full-field-drifting-gratings-5-orientations-10-repeats\n",
      "  experimenter: ['Yann Zerlaut']\n",
      "  file_create_date: [datetime.datetime(2021, 1, 5, 10, 10, 23, 343783, tzinfo=tzoffset(None, 3600))]\n",
      "  identifier: 2020_11_12-17-54-24\n",
      "  institution: Institut du Cerveau et de la Moelle, Paris\n",
      "  lab: Rebola and Bacci labs\n",
      "  processing: {\n",
      "    ophys <class 'pynwb.base.ProcessingModule'>\n",
      "  }\n",
      "  session_description: {'NIdaq-acquisition-frequency': 10000, 'NIdaq-analog-input-channels': 1, 'NIdaq-digital-input-channels': 2, 'protocol_folder': 'exp\\\\protocols', 'root_datafolder': 'DATA', 'FaceCamera-frame-rate': 20, 'VisualStim': True, 'Locomotion': True, 'Electrophy': False, 'FaceCamera': True, 'CaImaging': True, 'protocol': 'full-field-drifting-gratings-5-orientations-10-repeats', 'Presentation': 'Randomized-Sequence', 'Stimulus': 'drifting-full-field-grating', 'Setup': 'Bacci-2P-setup', 'presentation-duration': 4.0, 'presentation-prestim-period': 5.0, 'presentation-poststim-period': 3.0, 'presentation-prestim-screen': 0, 'presentation-poststim-screen': 0, 'presentation-interstim-period': 3.0, 'presentation-interstim-screen': 0, 'N-repeat': 10, 'starting-index': 0, 'shuffling-seed': 1, 'angle-1': 0.0, 'angle-2': 150.0, 'N-angle': 5, 'spatial-freq-1': 0.05, 'spatial-freq-2': 0.05, 'N-spatial-freq': 1, 'speed-1': 2.0, 'speed-2': 2.0, 'N-speed': 0, 'contrast-1': 1.0, 'contrast-2': 1.0, 'N-contrast': 0, 'data-folder': '/home/yann/work/cortical-physio-icm/exp/protocols', 'protocol-folder': '/home/yann/work/cortical-physio-icm/exp/protocols', 'NIdaq': True, 'true_tstart': 64477.385555, 'true_duration': 360.0, 'true_tstop': 64837.385555, 'config': 'FULL-HQ', 'STEP_FOR_CA_IMAGING_TRIGGER': {'channel': 0, 'onset': 0.5, 'duration': 0.3, 'value': 5.0}, 'subjects_file': 'mice_yann.json', 'experimenter': 'Yann Zerlaut', 'lab': 'Rebola and Bacci labs', 'institution': 'Institut du Cerveau et de la Moelle, Paris', 'protocols': 'all', 'subject_ID': 'Mouse-1', 'subject_props': {'description': '', 'sex': 'Female', 'genotype': 'SST-Cre', 'species': '', 'subject_id': '', 'weight': '', 'virus': '', 'surgery': '', 'date_of_birth': '2020_10_01'}, 'notes': ''}\n",
      "  session_start_time: 2020-11-12 17:54:24+01:00\n",
      "  source_script: /home/yann/work/cortical-physio-icm/assembling/build_NWB.py\n",
      "  source_script_file_name: /home/yann/work/cortical-physio-icm/assembling/build_NWB.py\n",
      "  stimulus: {\n",
      "    angle <class 'pynwb.base.TimeSeries'>,\n",
      "    contrast <class 'pynwb.base.TimeSeries'>,\n",
      "    index <class 'pynwb.base.TimeSeries'>,\n",
      "    repeat <class 'pynwb.base.TimeSeries'>,\n",
      "    spatial-freq <class 'pynwb.base.TimeSeries'>,\n",
      "    speed <class 'pynwb.base.TimeSeries'>,\n",
      "    time_start <class 'pynwb.base.TimeSeries'>,\n",
      "    time_start_realigned <class 'pynwb.base.TimeSeries'>,\n",
      "    time_stop <class 'pynwb.base.TimeSeries'>,\n",
      "    time_stop_realigned <class 'pynwb.base.TimeSeries'>,\n",
      "    visual-stimuli <class 'pynwb.image.ImageSeries'>\n",
      "  }\n",
      "  subject: subject pynwb.file.Subject at 0x139903994859664\n",
      "Fields:\n",
      "  date_of_birth: 2020-10-01 00:00:00+02:00\n",
      "  genotype: SST-Cre\n",
      "  sex: Female\n",
      "\n",
      "  timestamps_reference_time: 2020-11-12 17:54:24+01:00\n",
      "\n"
     ]
    }
   ],
   "source": [
    "# let's have a look at what is inside\n",
    "print(nwbfile)"
   ]
  },
  {
   "cell_type": "markdown",
   "metadata": {},
   "source": [
    "## Acquisition fields"
   ]
  },
  {
   "cell_type": "code",
   "execution_count": 5,
   "metadata": {},
   "outputs": [
    {
     "data": {
      "text/plain": [
       "{'FaceCamera-acquisition': FaceCamera-acquisition pynwb.image.ImageSeries at 0x139904004361296\n",
       " Fields:\n",
       "   comments: no comments\n",
       "   conversion: 1.0\n",
       "   data: <HDF5 dataset \"data\": shape (7073, 680, 1280), type \"|u1\">\n",
       "   description: no description\n",
       "   interval: 1\n",
       "   resolution: -1.0\n",
       "   timestamps: <HDF5 dataset \"timestamps\": shape (7073,), type \"<f8\">\n",
       "   timestamps_unit: seconds\n",
       "   unit: NA,\n",
       " 'Photodiode-Signal': Photodiode-Signal pynwb.base.TimeSeries at 0x139903995178256\n",
       " Fields:\n",
       "   comments: no comments\n",
       "   conversion: 1.0\n",
       "   data: <HDF5 dataset \"data\": shape (3600000,), type \"<f8\">\n",
       "   description: no description\n",
       "   rate: 10000.0\n",
       "   resolution: -1.0\n",
       "   starting_time: 0.0\n",
       "   starting_time_unit: seconds\n",
       "   unit: [current],\n",
       " 'Running-Speed': Running-Speed pynwb.base.TimeSeries at 0x139903994714448\n",
       " Fields:\n",
       "   comments: no comments\n",
       "   conversion: 1.0\n",
       "   data: <HDF5 dataset \"data\": shape (3595000,), type \"<f8\">\n",
       "   description: no description\n",
       "   rate: 10000.0\n",
       "   resolution: -1.0\n",
       "   starting_time: 0.0\n",
       "   starting_time_unit: seconds\n",
       "   unit: cm/s}"
      ]
     },
     "execution_count": 5,
     "metadata": {},
     "output_type": "execute_result"
    }
   ],
   "source": [
    "nwbfile.acquisition"
   ]
  },
  {
   "cell_type": "code",
   "execution_count": 9,
   "metadata": {},
   "outputs": [
    {
     "data": {
      "text/plain": [
       "'/media/yann/Yann/2020_11_12/17-54-24/2020_11_12-17-54-24.FULL.nwb'"
      ]
     },
     "execution_count": 9,
     "metadata": {},
     "output_type": "execute_result"
    }
   ],
   "source": [
    "nwbfile.acquisition['FaceCamera-acquisition']._AbstractContainer__container_source"
   ]
  },
  {
   "cell_type": "markdown",
   "metadata": {},
   "source": [
    "## Processing fields"
   ]
  },
  {
   "cell_type": "code",
   "execution_count": 11,
   "metadata": {},
   "outputs": [],
   "source": [
    "io.close()"
   ]
  },
  {
   "cell_type": "code",
   "execution_count": null,
   "metadata": {},
   "outputs": [],
   "source": []
  }
 ],
 "metadata": {
  "kernelspec": {
   "display_name": "Python 3",
   "language": "python",
   "name": "python3"
  },
  "language_info": {
   "codemirror_mode": {
    "name": "ipython",
    "version": 3
   },
   "file_extension": ".py",
   "mimetype": "text/x-python",
   "name": "python",
   "nbconvert_exporter": "python",
   "pygments_lexer": "ipython3",
   "version": "3.7.4"
  }
 },
 "nbformat": 4,
 "nbformat_minor": 2
}
